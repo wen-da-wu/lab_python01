{
 "cells": [
  {
   "cell_type": "code",
   "execution_count": 13,
   "metadata": {},
   "outputs": [
    {
     "data": {
      "text/html": [
       "<div>\n",
       "<style scoped>\n",
       "    .dataframe tbody tr th:only-of-type {\n",
       "        vertical-align: middle;\n",
       "    }\n",
       "\n",
       "    .dataframe tbody tr th {\n",
       "        vertical-align: top;\n",
       "    }\n",
       "\n",
       "    .dataframe thead th {\n",
       "        text-align: right;\n",
       "    }\n",
       "</style>\n",
       "<table border=\"1\" class=\"dataframe\">\n",
       "  <thead>\n",
       "    <tr style=\"text-align: right;\">\n",
       "      <th></th>\n",
       "      <th>洲名</th>\n",
       "      <th>國家</th>\n",
       "      <th>日期</th>\n",
       "      <th>總確診數</th>\n",
       "      <th>新增確診數</th>\n",
       "    </tr>\n",
       "  </thead>\n",
       "  <tbody>\n",
       "    <tr>\n",
       "      <th>164835</th>\n",
       "      <td>亞洲</td>\n",
       "      <td>台灣</td>\n",
       "      <td>2022-05-14</td>\n",
       "      <td>699824</td>\n",
       "      <td>128954</td>\n",
       "    </tr>\n",
       "    <tr>\n",
       "      <th>164830</th>\n",
       "      <td>亞洲</td>\n",
       "      <td>台灣</td>\n",
       "      <td>2022-05-09</td>\n",
       "      <td>397504</td>\n",
       "      <td>128935</td>\n",
       "    </tr>\n",
       "    <tr>\n",
       "      <th>164848</th>\n",
       "      <td>亞洲</td>\n",
       "      <td>台灣</td>\n",
       "      <td>2022-05-27</td>\n",
       "      <td>1735067</td>\n",
       "      <td>94796</td>\n",
       "    </tr>\n",
       "    <tr>\n",
       "      <th>164840</th>\n",
       "      <td>亞洲</td>\n",
       "      <td>台灣</td>\n",
       "      <td>2022-05-19</td>\n",
       "      <td>1070561</td>\n",
       "      <td>89420</td>\n",
       "    </tr>\n",
       "    <tr>\n",
       "      <th>164846</th>\n",
       "      <td>亞洲</td>\n",
       "      <td>台灣</td>\n",
       "      <td>2022-05-25</td>\n",
       "      <td>1558380</td>\n",
       "      <td>89361</td>\n",
       "    </tr>\n",
       "  </tbody>\n",
       "</table>\n",
       "</div>"
      ],
      "text/plain": [
       "        洲名  國家          日期     總確診數   新增確診數\n",
       "164835  亞洲  台灣  2022-05-14   699824  128954\n",
       "164830  亞洲  台灣  2022-05-09   397504  128935\n",
       "164848  亞洲  台灣  2022-05-27  1735067   94796\n",
       "164840  亞洲  台灣  2022-05-19  1070561   89420\n",
       "164846  亞洲  台灣  2022-05-25  1558380   89361"
      ]
     },
     "execution_count": 13,
     "metadata": {},
     "output_type": "execute_result"
    }
   ],
   "source": [
    "import pandas as pd\n",
    "\n",
    "#'洲名','國家','日期','總確診數','新增確診數'\n",
    "world = pd.read_csv('world.csv')\n",
    "world\n",
    "wd2 = world[['洲名','國家','日期','總確診數','新增確診數']]\n",
    "wd3=wd2.query('國家==\"台灣\"')\n",
    "wd4=wd3.sort_values(by='新增確診數',ascending=False)\n",
    "wd5=wd4[0:5]\n",
    "wd5"
   ]
  },
  {
   "cell_type": "code",
   "execution_count": 14,
   "metadata": {},
   "outputs": [],
   "source": [
    "import pandas as pd"
   ]
  },
  {
   "cell_type": "code",
   "execution_count": 17,
   "metadata": {},
   "outputs": [],
   "source": [
    "wd6 = wd5.set_index('日期')"
   ]
  },
  {
   "cell_type": "code",
   "execution_count": 18,
   "metadata": {},
   "outputs": [
    {
     "data": {
      "text/html": [
       "<div>\n",
       "<style scoped>\n",
       "    .dataframe tbody tr th:only-of-type {\n",
       "        vertical-align: middle;\n",
       "    }\n",
       "\n",
       "    .dataframe tbody tr th {\n",
       "        vertical-align: top;\n",
       "    }\n",
       "\n",
       "    .dataframe thead th {\n",
       "        text-align: right;\n",
       "    }\n",
       "</style>\n",
       "<table border=\"1\" class=\"dataframe\">\n",
       "  <thead>\n",
       "    <tr style=\"text-align: right;\">\n",
       "      <th></th>\n",
       "      <th>洲名</th>\n",
       "      <th>國家</th>\n",
       "      <th>總確診數</th>\n",
       "      <th>新增確診數</th>\n",
       "    </tr>\n",
       "    <tr>\n",
       "      <th>日期</th>\n",
       "      <th></th>\n",
       "      <th></th>\n",
       "      <th></th>\n",
       "      <th></th>\n",
       "    </tr>\n",
       "  </thead>\n",
       "  <tbody>\n",
       "    <tr>\n",
       "      <th>2022-05-14</th>\n",
       "      <td>亞洲</td>\n",
       "      <td>台灣</td>\n",
       "      <td>699824</td>\n",
       "      <td>128954</td>\n",
       "    </tr>\n",
       "    <tr>\n",
       "      <th>2022-05-09</th>\n",
       "      <td>亞洲</td>\n",
       "      <td>台灣</td>\n",
       "      <td>397504</td>\n",
       "      <td>128935</td>\n",
       "    </tr>\n",
       "    <tr>\n",
       "      <th>2022-05-27</th>\n",
       "      <td>亞洲</td>\n",
       "      <td>台灣</td>\n",
       "      <td>1735067</td>\n",
       "      <td>94796</td>\n",
       "    </tr>\n",
       "    <tr>\n",
       "      <th>2022-05-19</th>\n",
       "      <td>亞洲</td>\n",
       "      <td>台灣</td>\n",
       "      <td>1070561</td>\n",
       "      <td>89420</td>\n",
       "    </tr>\n",
       "    <tr>\n",
       "      <th>2022-05-25</th>\n",
       "      <td>亞洲</td>\n",
       "      <td>台灣</td>\n",
       "      <td>1558380</td>\n",
       "      <td>89361</td>\n",
       "    </tr>\n",
       "  </tbody>\n",
       "</table>\n",
       "</div>"
      ],
      "text/plain": [
       "            洲名  國家     總確診數   新增確診數\n",
       "日期                                 \n",
       "2022-05-14  亞洲  台灣   699824  128954\n",
       "2022-05-09  亞洲  台灣   397504  128935\n",
       "2022-05-27  亞洲  台灣  1735067   94796\n",
       "2022-05-19  亞洲  台灣  1070561   89420\n",
       "2022-05-25  亞洲  台灣  1558380   89361"
      ]
     },
     "execution_count": 18,
     "metadata": {},
     "output_type": "execute_result"
    }
   ],
   "source": [
    "wd6"
   ]
  }
 ],
 "metadata": {
  "kernelspec": {
   "display_name": "Python 3",
   "language": "python",
   "name": "python3"
  },
  "language_info": {
   "codemirror_mode": {
    "name": "ipython",
    "version": 3
   },
   "file_extension": ".py",
   "mimetype": "text/x-python",
   "name": "python",
   "nbconvert_exporter": "python",
   "pygments_lexer": "ipython3",
   "version": "3.12.3"
  }
 },
 "nbformat": 4,
 "nbformat_minor": 2
}
